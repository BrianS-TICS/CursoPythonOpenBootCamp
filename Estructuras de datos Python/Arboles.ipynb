{
 "cells": [
  {
   "attachments": {},
   "cell_type": "markdown",
   "metadata": {},
   "source": [
    "Arboles\n",
    "    Arbol binario"
   ]
  },
  {
   "cell_type": "code",
   "execution_count": 69,
   "metadata": {},
   "outputs": [],
   "source": [
    "def ArbolBinario(raiz):\n",
    "    return [raiz, [], []]"
   ]
  },
  {
   "cell_type": "code",
   "execution_count": 70,
   "metadata": {},
   "outputs": [],
   "source": [
    "def insertarPorIzquierda(raiz, nuevoValor):\n",
    "    ramaIzquierda = raiz.pop(1)\n",
    "    if len(ramaIzquierda) > 1:\n",
    "        raiz.insert(1, [nuevoValor, ramaIzquierda, []])\n",
    "    else:\n",
    "        raiz.insert(1, [nuevoValor, [], []])\n",
    "    return raiz"
   ]
  },
  {
   "cell_type": "code",
   "execution_count": 71,
   "metadata": {},
   "outputs": [],
   "source": [
    "def insertarPorDerecha(raiz, nuevoValor):\n",
    "    rama_derecha = raiz.pop(2)\n",
    "    if len(rama_derecha) > 1:\n",
    "        raiz.insert(2, [nuevoValor, [], rama_derecha])\n",
    "    else :\n",
    "        raiz.insert(2, [nuevoValor, [], []])\n",
    "    return raiz"
   ]
  },
  {
   "cell_type": "code",
   "execution_count": 72,
   "metadata": {},
   "outputs": [],
   "source": [
    "def getRaiz(raiz):\n",
    "    return raiz[0]\n",
    "\n",
    "\n",
    "def setRaiz(raiz, valor):\n",
    "    raiz[0] = valor\n",
    "\n",
    "\n",
    "def hijoIzquiedo(raiz):\n",
    "    return raiz[1]\n",
    "\n",
    "\n",
    "def hijoDerecho(raiz):\n",
    "    return raiz[2]\n"
   ]
  },
  {
   "attachments": {},
   "cell_type": "markdown",
   "metadata": {},
   "source": [
    "Implementacion de arbol binario"
   ]
  },
  {
   "cell_type": "code",
   "execution_count": 73,
   "metadata": {},
   "outputs": [
    {
     "data": {
      "text/plain": [
       "['A', [], []]"
      ]
     },
     "execution_count": 73,
     "metadata": {},
     "output_type": "execute_result"
    }
   ],
   "source": [
    "arbol = ArbolBinario('A')\n",
    "arbol"
   ]
  },
  {
   "cell_type": "code",
   "execution_count": 74,
   "metadata": {},
   "outputs": [
    {
     "data": {
      "text/plain": [
       "['A', ['B', [], []], []]"
      ]
     },
     "execution_count": 74,
     "metadata": {},
     "output_type": "execute_result"
    }
   ],
   "source": [
    "insertarPorIzquierda(arbol, 'B')\n",
    "arbol"
   ]
  },
  {
   "cell_type": "code",
   "execution_count": 75,
   "metadata": {},
   "outputs": [
    {
     "data": {
      "text/plain": [
       "['A', ['B', [], []], ['C', [], []]]"
      ]
     },
     "execution_count": 75,
     "metadata": {},
     "output_type": "execute_result"
    }
   ],
   "source": [
    "insertarPorDerecha(arbol, 'C')\n",
    "arbol"
   ]
  },
  {
   "cell_type": "code",
   "execution_count": 76,
   "metadata": {},
   "outputs": [
    {
     "data": {
      "text/plain": [
       "['A', ['E', ['D', ['B', [], []], []], []], ['C', [], []]]"
      ]
     },
     "execution_count": 76,
     "metadata": {},
     "output_type": "execute_result"
    }
   ],
   "source": [
    "insertarPorIzquierda(arbol, 'D')\n",
    "insertarPorIzquierda(arbol, 'E')"
   ]
  },
  {
   "cell_type": "code",
   "execution_count": 77,
   "metadata": {},
   "outputs": [
    {
     "data": {
      "text/plain": [
       "['A', ['E', ['D', ['B', [], []], []], []], ['G', [], ['F', [], ['C', [], []]]]]"
      ]
     },
     "execution_count": 77,
     "metadata": {},
     "output_type": "execute_result"
    }
   ],
   "source": [
    "insertarPorDerecha(arbol, 'F')\n",
    "insertarPorDerecha(arbol, 'G')"
   ]
  }
 ],
 "metadata": {
  "kernelspec": {
   "display_name": "Python 3",
   "language": "python",
   "name": "python3"
  },
  "language_info": {
   "codemirror_mode": {
    "name": "ipython",
    "version": 3
   },
   "file_extension": ".py",
   "mimetype": "text/x-python",
   "name": "python",
   "nbconvert_exporter": "python",
   "pygments_lexer": "ipython3",
   "version": "3.11.1"
  },
  "orig_nbformat": 4,
  "vscode": {
   "interpreter": {
    "hash": "e72190538c2ba43f01a4bb1f8db058440a9aceb794ef196497a6a1a579de28d1"
   }
  }
 },
 "nbformat": 4,
 "nbformat_minor": 2
}
