{
 "cells": [
  {
   "cell_type": "code",
   "execution_count": null,
   "metadata": {},
   "outputs": [],
   "source": [
    "\n",
    "class Nodo:\n",
    "\n",
    "    def __init__(self, dato):\n",
    "        self.dato = dato  # Cabeza\n",
    "        self.izquierda = None\n",
    "        self.derecha = None\n",
    "\n",
    "    def agrega(self, nodo, dato):\n",
    "        if dato < nodo.dato:\n",
    "            if nodo.izquierda is None:\n",
    "                nodo.izquieda = Nodo(dato)\n",
    "            else:\n",
    "                self.agrega(nodo.izquierda, dato)\n",
    "        else:\n",
    "            if nodo.derecha is None:\n",
    "                nodo.derecha = Nodo(dato)\n",
    "            else:\n",
    "                self.agrega(nodo.derecha, dato)\n",
    "\n",
    "    def imprime(self, nodo) :\n",
    "        if nodo is not None :\n",
    "            if(nodo.izquierda is None and nodo.derecha is None) :\n",
    "                print(f'{nodo.dato}', end=\"\" )\n",
    "            else :\n",
    "                print(f'{nodo.dato}', end=\" => \" )\n",
    "            \n",
    "            self.preorden(nodo.izquierda)\n",
    "            self.preorden(nodo.derecha)\n",
    "\n",
    "# Se inicia con cabeza\n",
    "nodo = Nodo(1)\n",
    "nodo.agrega(nodo, 2)\n",
    "nodo.agrega(nodo, 3)\n",
    "nodo.agrega(nodo, 4)\n",
    "nodo.agrega(nodo, 5)\n",
    "nodo.agrega(nodo, 6)\n",
    "nodo.agrega(nodo, 7)\n",
    "nodo.agrega(nodo, 8)\n",
    "nodo.agrega(nodo, 9)\n",
    "nodo.agrega(nodo, 10)\n",
    "nodo.agrega(nodo, 11)\n",
    "nodo.agrega(nodo, 12)\n",
    "nodo.agrega(nodo, 13)\n",
    "nodo.agrega(nodo, 14)\n",
    "nodo.agrega(nodo, 15)\n",
    "nodo.imprime(nodo)\n",
    "\n"
   ]
  }
 ],
 "metadata": {
  "kernelspec": {
   "display_name": "Python 3",
   "language": "python",
   "name": "python3"
  },
  "language_info": {
   "codemirror_mode": {
    "name": "ipython",
    "version": 3
   },
   "file_extension": ".py",
   "mimetype": "text/x-python",
   "name": "python",
   "nbconvert_exporter": "python",
   "pygments_lexer": "ipython3",
   "version": "3.11.1"
  },
  "orig_nbformat": 4,
  "vscode": {
   "interpreter": {
    "hash": "e72190538c2ba43f01a4bb1f8db058440a9aceb794ef196497a6a1a579de28d1"
   }
  }
 },
 "nbformat": 4,
 "nbformat_minor": 2
}
