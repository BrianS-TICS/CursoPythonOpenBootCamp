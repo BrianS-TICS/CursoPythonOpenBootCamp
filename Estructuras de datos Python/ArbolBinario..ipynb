{
 "cells": [
  {
   "cell_type": "code",
   "execution_count": 19,
   "metadata": {},
   "outputs": [
    {
     "name": "stdout",
     "output_type": "stream",
     "text": [
      "<__main__.Nodo object at 0x000001E100012210>\n"
     ]
    }
   ],
   "source": [
    "class Nodo:\n",
    "    def __init__(self, valor):\n",
    "        self.valor = valor\n",
    "        self.izquierda = None\n",
    "        self.derecha = None\n",
    "\n",
    "\n",
    "class ArbolBinario:\n",
    "    def __init__(self):\n",
    "        self.raiz = None\n",
    "\n",
    "    def agregar_nodo(self, valor):\n",
    "        nuevo_nodo = Nodo(valor)\n",
    "        if self.raiz is None:\n",
    "            self.raiz = nuevo_nodo\n",
    "        else:\n",
    "            self._agregar_nodo_recursivo(self.raiz, nuevo_nodo)\n",
    "\n",
    "    def _agregar_nodo_recursivo(self, nodo_actual, nuevo_nodo):\n",
    "        if nuevo_nodo.valor < nodo_actual.valor:\n",
    "            if nodo_actual.izquierda is None:\n",
    "                nodo_actual.izquierda = nuevo_nodo\n",
    "            else:\n",
    "                self._agregar_nodo_recursivo(nodo_actual.izquierda, nuevo_nodo)\n",
    "        else:\n",
    "            if nodo_actual.derecha is None:\n",
    "                nodo_actual.derecha = nuevo_nodo\n",
    "            else:\n",
    "                self._agregar_nodo_recursivo(nodo_actual.derecha, nuevo_nodo)\n",
    "\n",
    "    def __repr__(self):\n",
    "        return str(self.__dict__)\n",
    "\n",
    "\n",
    "arbol = ArbolBinario()\n",
    "arbol.agregar_nodo(5)\n",
    "arbol.agregar_nodo(2)\n",
    "arbol.agregar_nodo(7)\n",
    "arbol.agregar_nodo(1)\n",
    "arbol.agregar_nodo(3)\n",
    "arbol.agregar_nodo(6)\n",
    "arbol.agregar_nodo(8)\n",
    "\n",
    "print(arbol)\n"
   ]
  },
  {
   "cell_type": "code",
   "execution_count": 29,
   "metadata": {},
   "outputs": [
    {
     "name": "stdout",
     "output_type": "stream",
     "text": [
      "1\n",
      "[[2, [], []], [3, [], []], 1]\n"
     ]
    },
    {
     "data": {
      "text/plain": [
       "True"
      ]
     },
     "execution_count": 29,
     "metadata": {},
     "output_type": "execute_result"
    }
   ],
   "source": [
    "# arbolBinario = [1,[2, [4, [], []], [5, [], []]],\n",
    "#     [3, [6, [], []], [7, [], []]]]\n",
    "\n",
    "arbolBinario = [1, [2, [], []], [3, [], []]]\n",
    "frontera = []\n",
    "estadoActual = None\n",
    "meta = 3\n",
    "os = None\n",
    "\n",
    "\n",
    "def B_A(frontera):\n",
    "    if frontera == None or frontera == {} or frontera == []:\n",
    "        return False\n",
    "    else:\n",
    "        estadoActual = arbolBinario.pop(0)\n",
    "        if (estadoActual == meta):\n",
    "            return True\n",
    "        else:\n",
    "            os = estadoActual\n",
    "            print(os)\n",
    "\n",
    "            frontera.append(os)\n",
    "            print(frontera)\n",
    "            return True\n",
    "            B_A(frontera)\n",
    "\n",
    "\n",
    "B_A(arbolBinario)\n",
    "\n",
    "\n",
    "def B_A2(frontera):\n",
    "    if frontera == None or frontera == {} or frontera == []:\n",
    "        return False\n",
    "    else:\n",
    "        estadoActual = frontera.pop(0)\n",
    "        if (estadoActual == meta):\n",
    "            return True\n",
    "        else:\n",
    "            os = estadoActual\n",
    "            frontera.append(frontera, os)\n",
    "            return True\n",
    "            B_A(frontera)\n",
    "            \n",
    "B_A2(arbol)\n"
   ]
  }
 ],
 "metadata": {
  "kernelspec": {
   "display_name": "Python 3",
   "language": "python",
   "name": "python3"
  },
  "language_info": {
   "codemirror_mode": {
    "name": "ipython",
    "version": 3
   },
   "file_extension": ".py",
   "mimetype": "text/x-python",
   "name": "python",
   "nbconvert_exporter": "python",
   "pygments_lexer": "ipython3",
   "version": "3.11.1"
  },
  "orig_nbformat": 4,
  "vscode": {
   "interpreter": {
    "hash": "e72190538c2ba43f01a4bb1f8db058440a9aceb794ef196497a6a1a579de28d1"
   }
  }
 },
 "nbformat": 4,
 "nbformat_minor": 2
}
